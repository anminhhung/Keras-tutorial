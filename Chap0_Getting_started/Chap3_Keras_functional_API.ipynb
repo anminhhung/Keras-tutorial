{
 "cells": [
  {
   "cell_type": "markdown",
   "metadata": {
    "colab_type": "text",
    "id": "VNuWcv2u4JZ3"
   },
   "source": [
    "The keras functional API is the way to go for defining complex models, such as multi-output models, directed acyclic graphs, or models with shared layers.  \n",
    "\n",
    "This guide assumes that you are already familiar with Sequential model.  "
   ]
  },
  {
   "cell_type": "markdown",
   "metadata": {
    "colab_type": "text",
    "id": "8_oiWVwo4ZQs"
   },
   "source": [
    "# First example: a densely connected network"
   ]
  },
  {
   "cell_type": "markdown",
   "metadata": {
    "colab_type": "text",
    "id": "DwP1Unow4clF"
   },
   "source": [
    "The Sequential model is probably a better choice to implement such a network, but it helps to start with something really simple.  \n",
    "* A layer instance is callable (on a tensor) and it returns a tensor  \n",
    "* Input tensor(s) and output tensor(s) can then be used to define a Model  \n",
    "* Such a model can be trained just like Keras Sequential models.  "
   ]
  },
  {
   "cell_type": "code",
   "execution_count": 0,
   "metadata": {
    "colab": {},
    "colab_type": "code",
    "id": "TeATVkjy42ht"
   },
   "outputs": [],
   "source": [
    "from keras.layers import Input, Dense \n",
    "from keras.models import Model\n",
    "\n",
    "# This returns a tensor\n",
    "inputs = Input(shape=(784, ))\n",
    "\n",
    "# a layer instance is callable on a tensor and returns a tensor\n",
    "output_1 = Dense(64, activation='relu')(inputs)\n",
    "output_2 = Dense(64, activation='relu')(output_1)\n",
    "predictions = Dense(10, activation='softmax')(output_2)\n",
    "\n",
    "# This creates a model that includes\n",
    "# The input later and three Dense layers \n",
    "model = Model(inputs=inputs, outputs=predictions)\n",
    "model.compile(optimizer='rmsprop',\n",
    "              loss='categorical_crossentropy',\n",
    "              metrics=['accuracy'])\n",
    "\n",
    "# start training\n",
    "model.fit(data, labels)"
   ]
  },
  {
   "cell_type": "markdown",
   "metadata": {
    "colab_type": "text",
    "id": "a8GPU4nS5sje"
   },
   "source": [
    "# All models are callable, just like layers"
   ]
  },
  {
   "cell_type": "markdown",
   "metadata": {
    "colab_type": "text",
    "id": "0Tedim9t550U"
   },
   "source": [
    "With the functional API, it is easy to reuse trained models: you can treat any model as if it were a layer, by calling it on a tensor. Note that by calling a model you aren't just reusing the architecture of the model, you are also reusing its weights."
   ]
  },
  {
   "cell_type": "code",
   "execution_count": 0,
   "metadata": {
    "colab": {},
    "colab_type": "code",
    "id": "_AEvGtno6JdC"
   },
   "outputs": [],
   "source": [
    "x = Input(shape=(784, ))\n",
    "# This works and returns the 10-way softmax we defined above\n",
    "y =model(x)"
   ]
  },
  {
   "cell_type": "markdown",
   "metadata": {
    "colab_type": "text",
    "id": "6wddwqDW6Zx2"
   },
   "source": [
    "This can allow, for instance to quickly create models that can process sequences of inputs. You could turn an image classification model into a video classification, in just one line."
   ]
  },
  {
   "cell_type": "code",
   "execution_count": 0,
   "metadata": {
    "colab": {},
    "colab_type": "code",
    "id": "vCCsKvx76m3s"
   },
   "outputs": [],
   "source": [
    "from keras.layers import TimeDistributed\n",
    "\n",
    "# Input tensor for sequences of 20 timesteps, each containing a 784-dimensional vector\n",
    "input_sequences = Input(shape=(20, 784))\n",
    "\n",
    "# This applies our previous model to every timestep in the input sequences.\n",
    "# The output of the previous model was a 10-way softmax\n",
    "# so the output of the layer below will be a sequence of 20 vectors of size 10.\n",
    "processed_sequences = TimeDistributed(model)(input_sequences)"
   ]
  },
  {
   "cell_type": "markdown",
   "metadata": {
    "colab_type": "text",
    "id": "2bbw9z907TAr"
   },
   "source": [
    "# Multi-input and multi-output models"
   ]
  },
  {
   "cell_type": "markdown",
   "metadata": {
    "colab_type": "text",
    "id": "-a8Sry4N7YdV"
   },
   "source": [
    "Here's a good use case for the functional API: models with multiple inputs and outputs. The functional API makes it easy to manipulate  a large number of intertwined datastreams.  \n",
    "\n",
    "Let's consider the following model. We seek to predict how many retweets and likes a news headline will receive Twitter. The main input to the model will be the headline itself, as a sequence of words, but to spice things up, out model will also have an auxiliary input, receiving extra data such as the time of day when the headline was posted. The model will also be supervised via two loss functions. Using the main loss function earlier in a model is a good regularization mechanism for deep models.  \n",
    "\n",
    "Here's what our model looks like:  \n",
    "![image](images/image2.png)\n",
    "Let's implement it with the functional API.  \n",
    "\n",
    "The main input will receive the headline, as a sequence of integers (each integer encodes a word). The integers will be between 1 and 10,000 (a vocabulary of 10,000 words) and the sequences will be 100 words long."
   ]
  },
  {
   "cell_type": "code",
   "execution_count": 0,
   "metadata": {
    "colab": {},
    "colab_type": "code",
    "id": "_3jCFXGA9F6_"
   },
   "outputs": [],
   "source": [
    "from keras.layers import Input, Embedding, LSTM, Dense\n",
    "from keras.models import Model\n",
    "import numpy as np \n",
    "\n",
    "# Set a random seed for reproducibility\n",
    "np.random.seed(0)\n",
    "\n",
    "# Headline input: meant to receive sequences of 100 integers, between 1 and 10000.\n",
    "# Note that we can name any layer by passing it a \"name\" argument.\n",
    "main_input = Input(shape=(100, ), dtype='int32', name='main_input')\n",
    "\n",
    "# This embedding layer will encode the input sequence\n",
    "# into a sequence of dense 512-dimensional vectors\n",
    "x = Embedding(output_dim=512, input_dim=10000, input_length=100)(main_input)\n",
    "\n",
    "# A LSTM will transform the vector sequence into a single vector, \n",
    "# containing information about the entire sequence\n",
    "lstm_out = LSTM(32, x)"
   ]
  },
  {
   "cell_type": "markdown",
   "metadata": {
    "colab_type": "text",
    "id": "TDFh8XgU9-I_"
   },
   "source": [
    "Here we insert the auxiliary loss, allowing the LSTM and Embedding layer to be trained smoothly even though the main loss will be much higher in the model."
   ]
  },
  {
   "cell_type": "code",
   "execution_count": 0,
   "metadata": {
    "colab": {},
    "colab_type": "code",
    "id": "HsdVNwcq-SZi"
   },
   "outputs": [],
   "source": [
    "auxiliary_output = Dense(1, activation='sigmoid', name='aux_output')(lstm_out)"
   ]
  },
  {
   "cell_type": "markdown",
   "metadata": {
    "colab_type": "text",
    "id": "clbDo7eU-eDX"
   },
   "source": [
    "At this point, we feed into the model our auxiliary input data by concatenating it with the LSTM output:"
   ]
  },
  {
   "cell_type": "code",
   "execution_count": 0,
   "metadata": {
    "colab": {},
    "colab_type": "code",
    "id": "9VagJFgx-mA7"
   },
   "outputs": [],
   "source": [
    "auxiliary_input = Input(shape=(5, ), name='aux_input')\n",
    "x = keras.layers.concatenate([lstm_out, auxiliary_input])\n",
    "\n",
    "# We stack a deep densely-connected network on top\n",
    "x = Dense(64, activation='relu')(x)\n",
    "x = Dense(64, activation='relu')(x)\n",
    "x = Dense(64, activation='relu')(x)\n",
    "\n",
    "# And finally we add the main logistic regression layer\n",
    "main_output = Dense(1, activation='sigmoid', name='main_output')(x)"
   ]
  },
  {
   "cell_type": "markdown",
   "metadata": {
    "colab_type": "text",
    "id": "A6p97tSt_KyE"
   },
   "source": [
    "This defines a model with two inputs and two outputs:"
   ]
  },
  {
   "cell_type": "code",
   "execution_count": 0,
   "metadata": {
    "colab": {},
    "colab_type": "code",
    "id": "4Uy04OUI_eeb"
   },
   "outputs": [],
   "source": [
    "model = Model(inputs=[main_input, auxiliary_input], outputs=[main_output, auxiliary_output])"
   ]
  },
  {
   "cell_type": "markdown",
   "metadata": {
    "colab_type": "text",
    "id": "4vJctffU_n2o"
   },
   "source": [
    "We compile the model and assign a weight of 0.2 to the auxiliary loss. To specify different loss_weight or loss for each different output, you can use a list or a dictionarty. Here we pass a single loss as the loss augment, so the same loss will be used on all outputs."
   ]
  },
  {
   "cell_type": "code",
   "execution_count": 0,
   "metadata": {
    "colab": {},
    "colab_type": "code",
    "id": "4s6XIsma_3Kd"
   },
   "outputs": [],
   "source": [
    "model.compile(optimizer='rmsprop',\n",
    "              loss='binary_crossentropy',\n",
    "              loss_weights=[1., 0.2])"
   ]
  },
  {
   "cell_type": "markdown",
   "metadata": {
    "colab_type": "text",
    "id": "9WsT-fJlADKM"
   },
   "source": [
    "We can train the model by passing it lists of input arrays and target arrays"
   ]
  },
  {
   "cell_type": "code",
   "execution_count": 0,
   "metadata": {
    "colab": {},
    "colab_type": "code",
    "id": "iICliJvUAIgQ"
   },
   "outputs": [],
   "source": [
    "headline_data = np.round(np.abs(np.random.rand(12, 100)*100))\n",
    "additional_data = np.random.randn(12, 5)\n",
    "headline_labels = np.random.randn(12, 1)\n",
    "additional_labels = np.random.randn(12, 1)\n",
    "model.fit([headline_data, additional_data], [headline_labels, additional_labels],\n",
    "          epochs=50, batch_size=32)"
   ]
  },
  {
   "cell_type": "markdown",
   "metadata": {
    "colab_type": "text",
    "id": "Rj6w7X2bBMUT"
   },
   "source": [
    "Since our inputs and outputs are named (we passed them a \"name\" argument), we could also have compiled the model via:"
   ]
  },
  {
   "cell_type": "code",
   "execution_count": 0,
   "metadata": {
    "colab": {},
    "colab_type": "code",
    "id": "qZP7Wl2BBTe5"
   },
   "outputs": [],
   "source": [
    "model.compile(optimizer='rmsprop',\n",
    "              loss={'main_output': 'binary_crossentropy',\n",
    "                    'aux_output': 'binary_crossentropy'},\n",
    "              loss_weights={'main_output': 1.,\n",
    "                            'aux_output': 0.2})\n",
    "\n",
    "# Trained\n",
    "model.fit({'main_input': headline_data, 'aux_input': additional_data},\n",
    "          {'main_output': headline_labels, 'aux_output': additional_labels},\n",
    "          epochs=50, batch_size=32)"
   ]
  },
  {
   "cell_type": "markdown",
   "metadata": {
    "colab_type": "text",
    "id": "HDizwS2vCI36"
   },
   "source": [
    "To use the model for inferencing "
   ]
  },
  {
   "cell_type": "code",
   "execution_count": 0,
   "metadata": {
    "colab": {},
    "colab_type": "code",
    "id": "Kdxm8V9CCLF6"
   },
   "outputs": [],
   "source": [
    "model.predict({'main_input': headline_data,\n",
    "               'aux_inpit': additional_data})"
   ]
  },
  {
   "cell_type": "markdown",
   "metadata": {
    "colab_type": "text",
    "id": "08RdboR1CW0x"
   },
   "source": [
    "Or alternatively"
   ]
  },
  {
   "cell_type": "code",
   "execution_count": 0,
   "metadata": {
    "colab": {},
    "colab_type": "code",
    "id": "wNH_mzjsCYbw"
   },
   "outputs": [],
   "source": [
    "pred = model.predict([headline_data, additional_data])"
   ]
  },
  {
   "cell_type": "markdown",
   "metadata": {
    "colab_type": "text",
    "id": "l-j1dUYPCca7"
   },
   "source": [
    "# Shared layers"
   ]
  },
  {
   "cell_type": "markdown",
   "metadata": {
    "colab_type": "text",
    "id": "-YHl8y46Ce98"
   },
   "source": [
    "Another good use for the functional API are models that use shared layers. Let's take a look at shared layers.  \n",
    "\n",
    "Let's consider a dataset of tweets. We want to build a model that can tell whether two tweets are from the same person or not (this can allow us to compare users by the similarity of their tweets for instance),  \n",
    "\n",
    "One way to achieve this is to build a model that encodes two tweets into two vectors, concatenates the vectors and then adds a logistic regression, this outputs a probability that the two tweets share the same author. The model would then be trained on positive tweet pairs and negative tweet pairs.  \n",
    "\n",
    "Because the problem is symetric, the mechanism that encodes the first tweet should be reused (weights and all) to encode the second tweet. Here we use a shared LSTM layer to encode the tweets.  \n",
    "\n",
    "Let's build this with the functional API. We will take as input for a tweet a binary matrix of shape (280, 256), a sequence of 280 vectors of size 256, where each dimension in the 256-dimensional vector encodes the presence/absence of a character (out of an alphabet of 256 frequent characters)"
   ]
  },
  {
   "cell_type": "code",
   "execution_count": 0,
   "metadata": {
    "colab": {},
    "colab_type": "code",
    "id": "JD6BqRIpDzDz"
   },
   "outputs": [],
   "source": [
    "import keras\n",
    "from keras.layers import Input, LSTM, Dense\n",
    "from keras.models import Model\n",
    "\n",
    "tweet_a = Input(shape=(280, 256))\n",
    "tweet_b = Input(shape=(280, 256))"
   ]
  },
  {
   "cell_type": "markdown",
   "metadata": {
    "colab_type": "text",
    "id": "bka2EiDbFu_k"
   },
   "source": [
    "To share a layer across different inputs, simply instantiate the layer once, then call it on as many inputs as you want:"
   ]
  },
  {
   "cell_type": "code",
   "execution_count": 0,
   "metadata": {
    "colab": {},
    "colab_type": "code",
    "id": "gJb1ha86F5LK"
   },
   "outputs": [],
   "source": [
    "# This layer can take as input a matrix and will return a vector of size 64\n",
    "share_lstm = LSTM(64)\n",
    "# When we reuse the same layer instance multiple times, the weights of the layer are also being reused\n",
    "encoded_a = share_lstm(tweet_a)\n",
    "encoded_b = share_lstm(tweet_b)\n",
    "\n",
    "# We can then concatenate the two vectors\n",
    "merged_vector = keras.layers.concatenate([encoded_a, encoded_b], axis=-1)\n",
    "\n",
    "# And add a logistic regression on top\n",
    "predictions = Dense(1, activation='sigmoid')(merged_vector)\n",
    "\n",
    "# We define a trainable model linking the tweet inputs to the predictions\n",
    "model = Model(inputs=[tweet_a, tweet_b], outputs=predictions)\n",
    "\n",
    "model.compile(optimizer='rmsprop',\n",
    "              loss='binary_crossentropy',\n",
    "              metrics=['accuracy'])\n",
    "\n",
    "model.fit([data_a, data_b], labels, epochs=10)"
   ]
  },
  {
   "cell_type": "markdown",
   "metadata": {
    "colab_type": "text",
    "id": "iILeO5MuG2_3"
   },
   "source": [
    "# The concept of layer \"node\""
   ]
  },
  {
   "cell_type": "markdown",
   "metadata": {
    "colab_type": "text",
    "id": "X3mf-2YzIYBE"
   },
   "source": [
    "Whenever you are calling a layer on some input, you are creating a new tensor(the output of the layer), and you are adding a \"node\" to the layer, linking the input tensor to the output tensor. When you are calling the same layer multiple times, that layer owns multiple nodes indexed as 0, 1, 2, ...  \n",
    "\n",
    "In previous versions of Keras, you could obtain the output tensor of a layer instance via layer.get_output(), or its output shape via layer.output_shape. You still can (except get_output() has been replaced by the property output). But what if a layer is connected to multiple inputs?  \n",
    "\n",
    "As long as a layer is only connected to one input, there is no confusion, and .output will return the one output of the layer"
   ]
  },
  {
   "cell_type": "code",
   "execution_count": 0,
   "metadata": {
    "colab": {},
    "colab_type": "code",
    "id": "S__u5LU1a3Jc"
   },
   "outputs": [],
   "source": [
    "a = Input(shape=(280, 256))\n",
    "lstm = LSTM(32)\n",
    "encoded_a = lstm(a)\n",
    "\n",
    "assert lstm.output == encoded_a"
   ]
  },
  {
   "cell_type": "markdown",
   "metadata": {
    "colab_type": "text",
    "id": "VjJ_9rHZbQgX"
   },
   "source": [
    "Not so if the layer has multiple inputs"
   ]
  },
  {
   "cell_type": "code",
   "execution_count": 0,
   "metadata": {
    "colab": {},
    "colab_type": "code",
    "id": "7hWaVrUDbTEF"
   },
   "outputs": [],
   "source": [
    "a = Input(shape=(280, 256))\n",
    "b = Input(shape=(280, 256))\n",
    "\n",
    "lstm = LSTM(32)\n",
    "encoded_a = lstm(a)\n",
    "encoded_b = lstm(b)\n",
    "\n",
    "lstm.output"
   ]
  },
  {
   "cell_type": "code",
   "execution_count": 0,
   "metadata": {
    "colab": {},
    "colab_type": "code",
    "id": "DgAhRV1Ebfkk"
   },
   "outputs": [],
   "source": [
    "assert lstm.get_output_at(0) == encoded_a\n",
    "assert lstm.get_output_at(1) == encoded_b"
   ]
  },
  {
   "cell_type": "markdown",
   "metadata": {
    "colab_type": "text",
    "id": "NCXKB0BYbm6y"
   },
   "source": [
    "Them same is true for the properties input_shape and output_shape: as long as the layer has only one node, or as long as all nodes have the same input//output shape, then the notion of \"layer output/input shape\" is well defined, and that one shape will be returned by layer.output_shape/layer.input_shape. But if, for instance, you apply the same Conv2D layer to an input of shape (32, 32, 3), and then to an input of shape (64, 64, 3), the layer will have multiple input/output shapes, and you will have to fetch them by specifying the index of the node they belong to"
   ]
  },
  {
   "cell_type": "code",
   "execution_count": 0,
   "metadata": {
    "colab": {},
    "colab_type": "code",
    "id": "MZSw6Zl4cH4N"
   },
   "outputs": [],
   "source": [
    "a = Input(shape=(32, 32, 3))\n",
    "b = Input(shape=(64, 64, 3))\n",
    "\n",
    "conv = Conv2D(16, (3, 3), padding='same')\n",
    "conved_a = conv(a)\n",
    "\n",
    "# Only one input so far, the following will work\n",
    "assert conv.input_shape == (None, 32, 32, 3)\n",
    "\n",
    "conved_b = conv(b)\n",
    "# Now the `.input_shape` property wouldn't work, but this does:\n",
    "assert conv.get_input_shape_at(0) == (None, 32, 32, 3)\n",
    "assert conv.get_input_shape_at(1) == (None, 64, 64, 3)"
   ]
  },
  {
   "cell_type": "markdown",
   "metadata": {
    "colab_type": "text",
    "id": "XG1IP9WLd2RC"
   },
   "source": [
    "#  More examples"
   ]
  },
  {
   "cell_type": "markdown",
   "metadata": {
    "colab_type": "text",
    "id": "81LiuhhPd4io"
   },
   "source": [
    "## Inception module"
   ]
  },
  {
   "cell_type": "code",
   "execution_count": 0,
   "metadata": {
    "colab": {},
    "colab_type": "code",
    "id": "fyKLHN41d_QD"
   },
   "outputs": [],
   "source": [
    "from keras.layers import Conv2D, MaxPooling2D, Input \n",
    "import keras\n",
    "input_img = Input(shape=(256, 256, 3))\n",
    "\n",
    "tower_1 = Conv2D(64, (1, 1), padding='same', activation='relu')(input_img)\n",
    "tower_1 = Conv2D(64, (3, 3), padding='same', activation='relu')(tower_1)\n",
    "\n",
    "tower_2 = Conv2D(64, (1, 1), padding='same', activation='relu')(input_img)\n",
    "tower_2 = Conv2D(64, (5, 5), padding='same', activation='relu')(tower_2)\n",
    "\n",
    "tower_3 = MaxPooling2D((3, 3), strides=(1, 1), padding='same')(input_img)\n",
    "tower_3 = Conv2D(64, (1, 1), padding='same', activation='relu')(tower_3)\n",
    "\n",
    "output = keras.layers.concatenate([tower_1, tower_2, tower_3], axis=1)"
   ]
  },
  {
   "cell_type": "markdown",
   "metadata": {
    "colab_type": "text",
    "id": "fFvttsdzfTOF"
   },
   "source": [
    "## Residual connection on a convolution layer\n",
    "For more information about residual network, see Deep Residual Learning for Image Recognition"
   ]
  },
  {
   "cell_type": "code",
   "execution_count": 0,
   "metadata": {
    "colab": {},
    "colab_type": "code",
    "id": "u0C4YGy8fuAV"
   },
   "outputs": [],
   "source": [
    "# input tensor for a 3-channel 256x256 image\n",
    "x = Input(shape=(256, 256, 3))\n",
    "# 3x3 conv with 3 output channels (same as input channels)\n",
    "y = Conv2D(3, (3, 3), padding='same')(x)\n",
    "# this return x+y\n",
    "z = keras.layers.add([x, y])"
   ]
  },
  {
   "cell_type": "markdown",
   "metadata": {
    "colab_type": "text",
    "id": "4QZ12HwngGB7"
   },
   "source": [
    "## Shared vision model\n",
    "This model reuses the same image-processing module on two inputs, to classify whether two MNIST digits are the same digit or different digits."
   ]
  },
  {
   "cell_type": "code",
   "execution_count": 0,
   "metadata": {
    "colab": {},
    "colab_type": "code",
    "id": "yYHRvAmBgR2S"
   },
   "outputs": [],
   "source": [
    "from keras.layers import Dense, Flatten \n",
    "from keras.models import Model \n",
    "\n",
    "# First, define the vision modules\n",
    "digit_input = Input(shape=(27, 27, 1))\n",
    "x = Conv2D(64, (3, 3))(digit_input)\n",
    "x = Conv2D(64, (3, 3))(x)\n",
    "x = MaxPooling2D((2, 2))(x)\n",
    "out = Flatten()(x)\n",
    "\n",
    "vision_model = Model(digit_input, out)\n",
    "\n",
    "# Then define the tell-digits-apart model\n",
    "digit_a = Input(shape=(27, 27, 1))\n",
    "digit_b = Input(shape=(27, 27, 1))\n",
    "\n",
    "# The vision model will be shared, weights and all\n",
    "out_a = vision_model(digit_a)\n",
    "out_b = vision_model(digit_b)\n",
    "\n",
    "concatenated = keras.layers.concatenate([out_a, out_b])\n",
    "out = Dense(1, activation='sigmoid')(concatenated)\n",
    "\n",
    "classification_model = Model([digit_a, digit_b], out)"
   ]
  },
  {
   "cell_type": "markdown",
   "metadata": {
    "colab_type": "text",
    "id": "ziPolTxZhY7R"
   },
   "source": [
    "## Visual question answering model\n",
    "This model can select the correct one-word answer when asked a natural-language question about a picture.  \n",
    "\n",
    "It works by encoding the question into a vector, encoding the image into a vector, concatenating the two, and training on top a logistic regression over some vocabulary of potential answers"
   ]
  },
  {
   "cell_type": "code",
   "execution_count": 0,
   "metadata": {
    "colab": {},
    "colab_type": "code",
    "id": "zu2LDIXlhsh2"
   },
   "outputs": [],
   "source": [
    "from keras.layers import LSTM, Embedding\n",
    "from keras.models import Sequential\n",
    "\n",
    "# First, let's define a vision model using a Sequential model.\n",
    "# This model will encode an image into a vector\n",
    "vision_model = Sequential()\n",
    "vision_model.add(Conv2D(64, (3, 3), activation='relu', padding='same', input_shape=(224, 224, 3)))\n",
    "vision_model.add(Conv2D(64, (3, 3), activation='relu'))\n",
    "vision_model.add(MaxPooling2D((2, 2)))\n",
    "\n",
    "vision_model.add(Conv2D(128, (3, 3), activation='relu', padding='same'))\n",
    "vision_model.add(Conv2D(128, (3, 3), activation='relu'))\n",
    "vision_model.add(MaxPooling2D((2, 2)))\n",
    "\n",
    "vision_model.add(Conv2D(256, (3, 3), activation='relu', padding='same'))\n",
    "vision_model.add(Conv2D(256, (3, 3), activation='relu'))\n",
    "vision_model.add(Conv2D(256, (3, 3), activation='relu'))\n",
    "vision_model.add(MaxPooling2D((2, 2)))\n",
    "vision_model.add(Flatten())\n",
    "\n",
    "# Now let's get a tensor with the output of our vision model\n",
    "image_input = Input(shape=(224, 224, 3))\n",
    "encoded_image = vision_model(image_input)\n",
    "\n",
    "# Next, let's define a language model to encode the question into a vector\n",
    "# Each question will be at most 100 words long,\n",
    "# and we will index words as integers from 1 to 9999\n",
    "question_input = Input(shape=(100, ), dtype='int32')\n",
    "embedded_question = Embedding(input_dim=10000, output_dim=256, input_length=100)(question_input)\n",
    "encoded_question = LSTM(256)(embedded_question)\n",
    "\n",
    "# Let's concatenate the question vector and the image vector\n",
    "merged = keras.layers.concatenate([encoded_question, encoded_image])\n",
    "\n",
    "# And let's train a logistic regression over 1000 words on top\n",
    "output = Dense(1000, activation='softmax')(merged)\n",
    "\n",
    "# This is our final model\n",
    "vqa_model = Model(inputs=[image_input, question_input], outputs=output)\n",
    "\n",
    "# The next stage would be training this model on actual data"
   ]
  }
 ],
 "metadata": {
  "colab": {
   "authorship_tag": "ABX9TyMrbWau7XB13csWr9W+HS+j",
   "collapsed_sections": [],
   "name": "Chap3_Keras_functional_API.ipynb",
   "provenance": []
  },
  "kernelspec": {
   "display_name": "Python 3",
   "language": "python",
   "name": "python3"
  },
  "language_info": {
   "codemirror_mode": {
    "name": "ipython",
    "version": 3
   },
   "file_extension": ".py",
   "mimetype": "text/x-python",
   "name": "python",
   "nbconvert_exporter": "python",
   "pygments_lexer": "ipython3",
   "version": "3.7.7"
  }
 },
 "nbformat": 4,
 "nbformat_minor": 1
}
